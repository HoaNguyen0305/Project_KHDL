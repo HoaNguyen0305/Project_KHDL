{
 "cells": [
  {
   "cell_type": "code",
   "execution_count": 1,
   "metadata": {},
   "outputs": [],
   "source": [
    "import pandas as pd\n",
    "import numpy as np\n",
    "import re\n",
    "import matplotlib.pyplot as plt"
   ]
  },
  {
   "cell_type": "code",
   "execution_count": 2,
   "metadata": {},
   "outputs": [
    {
     "data": {
      "text/html": [
       "<div>\n",
       "<style scoped>\n",
       "    .dataframe tbody tr th:only-of-type {\n",
       "        vertical-align: middle;\n",
       "    }\n",
       "\n",
       "    .dataframe tbody tr th {\n",
       "        vertical-align: top;\n",
       "    }\n",
       "\n",
       "    .dataframe thead th {\n",
       "        text-align: right;\n",
       "    }\n",
       "</style>\n",
       "<table border=\"1\" class=\"dataframe\">\n",
       "  <thead>\n",
       "    <tr style=\"text-align: right;\">\n",
       "      <th></th>\n",
       "      <th>Unnamed: 0</th>\n",
       "      <th>Address</th>\n",
       "      <th>Area</th>\n",
       "      <th>Price per m2</th>\n",
       "      <th>Room</th>\n",
       "      <th>WC</th>\n",
       "      <th>Price</th>\n",
       "    </tr>\n",
       "  </thead>\n",
       "  <tbody>\n",
       "    <tr>\n",
       "      <th>0</th>\n",
       "      <td>0</td>\n",
       "      <td>Gò Vấp, Hồ Chí Minh</td>\n",
       "      <td>56 m²</td>\n",
       "      <td>23.93 tr/m²</td>\n",
       "      <td>2.0</td>\n",
       "      <td>3.0</td>\n",
       "      <td>1.34 tỷ</td>\n",
       "    </tr>\n",
       "    <tr>\n",
       "      <th>1</th>\n",
       "      <td>1</td>\n",
       "      <td>Quận 5, Hồ Chí Minh</td>\n",
       "      <td>36 m²</td>\n",
       "      <td>244.44 tr/m²</td>\n",
       "      <td>NaN</td>\n",
       "      <td>NaN</td>\n",
       "      <td>8.8 tỷ</td>\n",
       "    </tr>\n",
       "    <tr>\n",
       "      <th>2</th>\n",
       "      <td>2</td>\n",
       "      <td>Bình Thạnh, Hồ Chí Minh</td>\n",
       "      <td>55 m²</td>\n",
       "      <td>26.36 tr/m²</td>\n",
       "      <td>3.0</td>\n",
       "      <td>3.0</td>\n",
       "      <td>1.45 tỷ</td>\n",
       "    </tr>\n",
       "    <tr>\n",
       "      <th>3</th>\n",
       "      <td>3</td>\n",
       "      <td>Quận 2, Hồ Chí Minh</td>\n",
       "      <td>62.5 m²</td>\n",
       "      <td>25.76 tr/m²</td>\n",
       "      <td>3.0</td>\n",
       "      <td>3.0</td>\n",
       "      <td>1.61 tỷ</td>\n",
       "    </tr>\n",
       "    <tr>\n",
       "      <th>4</th>\n",
       "      <td>4</td>\n",
       "      <td>Bình Tân, Hồ Chí Minh</td>\n",
       "      <td>64 m²</td>\n",
       "      <td>93.75 tr/m²</td>\n",
       "      <td>NaN</td>\n",
       "      <td>NaN</td>\n",
       "      <td>6 tỷ</td>\n",
       "    </tr>\n",
       "  </tbody>\n",
       "</table>\n",
       "</div>"
      ],
      "text/plain": [
       "   Unnamed: 0                  Address     Area  Price per m2  Room   WC  \\\n",
       "0           0      Gò Vấp, Hồ Chí Minh    56 m²   23.93 tr/m²   2.0  3.0   \n",
       "1           1      Quận 5, Hồ Chí Minh    36 m²  244.44 tr/m²   NaN  NaN   \n",
       "2           2  Bình Thạnh, Hồ Chí Minh    55 m²   26.36 tr/m²   3.0  3.0   \n",
       "3           3      Quận 2, Hồ Chí Minh  62.5 m²   25.76 tr/m²   3.0  3.0   \n",
       "4           4    Bình Tân, Hồ Chí Minh    64 m²   93.75 tr/m²   NaN  NaN   \n",
       "\n",
       "     Price  \n",
       "0  1.34 tỷ  \n",
       "1   8.8 tỷ  \n",
       "2  1.45 tỷ  \n",
       "3  1.61 tỷ  \n",
       "4     6 tỷ  "
      ]
     },
     "execution_count": 2,
     "metadata": {},
     "output_type": "execute_result"
    }
   ],
   "source": [
    "data = pd.read_excel('data_51_to_100.xlsx')\n",
    "data.head()"
   ]
  },
  {
   "cell_type": "code",
   "execution_count": 3,
   "metadata": {},
   "outputs": [
    {
     "data": {
      "text/html": [
       "<div>\n",
       "<style scoped>\n",
       "    .dataframe tbody tr th:only-of-type {\n",
       "        vertical-align: middle;\n",
       "    }\n",
       "\n",
       "    .dataframe tbody tr th {\n",
       "        vertical-align: top;\n",
       "    }\n",
       "\n",
       "    .dataframe thead th {\n",
       "        text-align: right;\n",
       "    }\n",
       "</style>\n",
       "<table border=\"1\" class=\"dataframe\">\n",
       "  <thead>\n",
       "    <tr style=\"text-align: right;\">\n",
       "      <th></th>\n",
       "      <th>Unnamed: 0</th>\n",
       "      <th>Address</th>\n",
       "      <th>Area</th>\n",
       "      <th>Price per m2</th>\n",
       "      <th>Room</th>\n",
       "      <th>WC</th>\n",
       "      <th>Price</th>\n",
       "    </tr>\n",
       "  </thead>\n",
       "  <tbody>\n",
       "    <tr>\n",
       "      <th>0</th>\n",
       "      <td>0</td>\n",
       "      <td>·\\nQuận 9, Hồ Chí Minh</td>\n",
       "      <td>120 m²</td>\n",
       "      <td>91.67 tr/m²</td>\n",
       "      <td>6.0</td>\n",
       "      <td>6.0</td>\n",
       "      <td>11 tỷ</td>\n",
       "    </tr>\n",
       "    <tr>\n",
       "      <th>1</th>\n",
       "      <td>1</td>\n",
       "      <td>·\\nTân Bình, Hồ Chí Minh</td>\n",
       "      <td>34.5 m²</td>\n",
       "      <td>162.32 tr/m²</td>\n",
       "      <td>3.0</td>\n",
       "      <td>2.0</td>\n",
       "      <td>5.6 tỷ</td>\n",
       "    </tr>\n",
       "    <tr>\n",
       "      <th>2</th>\n",
       "      <td>2</td>\n",
       "      <td>·\\nHóc Môn, Hồ Chí Minh</td>\n",
       "      <td>156 m²</td>\n",
       "      <td>16.67 tr/m²</td>\n",
       "      <td>4.0</td>\n",
       "      <td>4.0</td>\n",
       "      <td>2.6 tỷ</td>\n",
       "    </tr>\n",
       "    <tr>\n",
       "      <th>3</th>\n",
       "      <td>3</td>\n",
       "      <td>·\\nHóc Môn, Hồ Chí Minh</td>\n",
       "      <td>130 m²</td>\n",
       "      <td>21.54 tr/m²</td>\n",
       "      <td>3.0</td>\n",
       "      <td>3.0</td>\n",
       "      <td>2.8 tỷ</td>\n",
       "    </tr>\n",
       "    <tr>\n",
       "      <th>4</th>\n",
       "      <td>4</td>\n",
       "      <td>·\\nBình Tân, Hồ Chí Minh</td>\n",
       "      <td>87 m²</td>\n",
       "      <td>91.95 tr/m²</td>\n",
       "      <td>NaN</td>\n",
       "      <td>NaN</td>\n",
       "      <td>8 tỷ</td>\n",
       "    </tr>\n",
       "  </tbody>\n",
       "</table>\n",
       "</div>"
      ],
      "text/plain": [
       "   Unnamed: 0                   Address     Area  Price per m2  Room   WC  \\\n",
       "0           0    ·\\nQuận 9, Hồ Chí Minh   120 m²   91.67 tr/m²   6.0  6.0   \n",
       "1           1  ·\\nTân Bình, Hồ Chí Minh  34.5 m²  162.32 tr/m²   3.0  2.0   \n",
       "2           2   ·\\nHóc Môn, Hồ Chí Minh   156 m²   16.67 tr/m²   4.0  4.0   \n",
       "3           3   ·\\nHóc Môn, Hồ Chí Minh   130 m²   21.54 tr/m²   3.0  3.0   \n",
       "4           4  ·\\nBình Tân, Hồ Chí Minh    87 m²   91.95 tr/m²   NaN  NaN   \n",
       "\n",
       "    Price  \n",
       "0   11 tỷ  \n",
       "1  5.6 tỷ  \n",
       "2  2.6 tỷ  \n",
       "3  2.8 tỷ  \n",
       "4    8 tỷ  "
      ]
     },
     "execution_count": 3,
     "metadata": {},
     "output_type": "execute_result"
    }
   ],
   "source": [
    "data1 = pd.read_excel('data_1_to_50.xlsx')\n",
    "data1.head()"
   ]
  },
  {
   "cell_type": "code",
   "execution_count": 4,
   "metadata": {},
   "outputs": [],
   "source": [
    "frames = [data, data1]\n",
    "\n",
    "df = pd.concat(frames)"
   ]
  },
  {
   "cell_type": "code",
   "execution_count": 5,
   "metadata": {},
   "outputs": [
    {
     "data": {
      "text/html": [
       "<div>\n",
       "<style scoped>\n",
       "    .dataframe tbody tr th:only-of-type {\n",
       "        vertical-align: middle;\n",
       "    }\n",
       "\n",
       "    .dataframe tbody tr th {\n",
       "        vertical-align: top;\n",
       "    }\n",
       "\n",
       "    .dataframe thead th {\n",
       "        text-align: right;\n",
       "    }\n",
       "</style>\n",
       "<table border=\"1\" class=\"dataframe\">\n",
       "  <thead>\n",
       "    <tr style=\"text-align: right;\">\n",
       "      <th></th>\n",
       "      <th>Unnamed: 0</th>\n",
       "      <th>Address</th>\n",
       "      <th>Area</th>\n",
       "      <th>Price per m2</th>\n",
       "      <th>Room</th>\n",
       "      <th>WC</th>\n",
       "      <th>Price</th>\n",
       "    </tr>\n",
       "  </thead>\n",
       "  <tbody>\n",
       "    <tr>\n",
       "      <th>0</th>\n",
       "      <td>0</td>\n",
       "      <td>Gò Vấp, Hồ Chí Minh</td>\n",
       "      <td>56 m²</td>\n",
       "      <td>23.93 tr/m²</td>\n",
       "      <td>2.0</td>\n",
       "      <td>3.0</td>\n",
       "      <td>1.34 tỷ</td>\n",
       "    </tr>\n",
       "    <tr>\n",
       "      <th>1</th>\n",
       "      <td>1</td>\n",
       "      <td>Quận 5, Hồ Chí Minh</td>\n",
       "      <td>36 m²</td>\n",
       "      <td>244.44 tr/m²</td>\n",
       "      <td>NaN</td>\n",
       "      <td>NaN</td>\n",
       "      <td>8.8 tỷ</td>\n",
       "    </tr>\n",
       "    <tr>\n",
       "      <th>2</th>\n",
       "      <td>2</td>\n",
       "      <td>Bình Thạnh, Hồ Chí Minh</td>\n",
       "      <td>55 m²</td>\n",
       "      <td>26.36 tr/m²</td>\n",
       "      <td>3.0</td>\n",
       "      <td>3.0</td>\n",
       "      <td>1.45 tỷ</td>\n",
       "    </tr>\n",
       "    <tr>\n",
       "      <th>3</th>\n",
       "      <td>3</td>\n",
       "      <td>Quận 2, Hồ Chí Minh</td>\n",
       "      <td>62.5 m²</td>\n",
       "      <td>25.76 tr/m²</td>\n",
       "      <td>3.0</td>\n",
       "      <td>3.0</td>\n",
       "      <td>1.61 tỷ</td>\n",
       "    </tr>\n",
       "    <tr>\n",
       "      <th>4</th>\n",
       "      <td>4</td>\n",
       "      <td>Bình Tân, Hồ Chí Minh</td>\n",
       "      <td>64 m²</td>\n",
       "      <td>93.75 tr/m²</td>\n",
       "      <td>NaN</td>\n",
       "      <td>NaN</td>\n",
       "      <td>6 tỷ</td>\n",
       "    </tr>\n",
       "  </tbody>\n",
       "</table>\n",
       "</div>"
      ],
      "text/plain": [
       "   Unnamed: 0                  Address     Area  Price per m2  Room   WC  \\\n",
       "0           0      Gò Vấp, Hồ Chí Minh    56 m²   23.93 tr/m²   2.0  3.0   \n",
       "1           1      Quận 5, Hồ Chí Minh    36 m²  244.44 tr/m²   NaN  NaN   \n",
       "2           2  Bình Thạnh, Hồ Chí Minh    55 m²   26.36 tr/m²   3.0  3.0   \n",
       "3           3      Quận 2, Hồ Chí Minh  62.5 m²   25.76 tr/m²   3.0  3.0   \n",
       "4           4    Bình Tân, Hồ Chí Minh    64 m²   93.75 tr/m²   NaN  NaN   \n",
       "\n",
       "     Price  \n",
       "0  1.34 tỷ  \n",
       "1   8.8 tỷ  \n",
       "2  1.45 tỷ  \n",
       "3  1.61 tỷ  \n",
       "4     6 tỷ  "
      ]
     },
     "execution_count": 5,
     "metadata": {},
     "output_type": "execute_result"
    }
   ],
   "source": [
    "df.head()"
   ]
  },
  {
   "cell_type": "code",
   "execution_count": 6,
   "metadata": {},
   "outputs": [
    {
     "data": {
      "text/plain": [
       "2000"
      ]
     },
     "execution_count": 6,
     "metadata": {},
     "output_type": "execute_result"
    }
   ],
   "source": [
    "len(df)"
   ]
  },
  {
   "cell_type": "code",
   "execution_count": 7,
   "metadata": {},
   "outputs": [
    {
     "data": {
      "text/html": [
       "<div>\n",
       "<style scoped>\n",
       "    .dataframe tbody tr th:only-of-type {\n",
       "        vertical-align: middle;\n",
       "    }\n",
       "\n",
       "    .dataframe tbody tr th {\n",
       "        vertical-align: top;\n",
       "    }\n",
       "\n",
       "    .dataframe thead th {\n",
       "        text-align: right;\n",
       "    }\n",
       "</style>\n",
       "<table border=\"1\" class=\"dataframe\">\n",
       "  <thead>\n",
       "    <tr style=\"text-align: right;\">\n",
       "      <th></th>\n",
       "      <th>Address</th>\n",
       "      <th>Area</th>\n",
       "      <th>Price per m2</th>\n",
       "      <th>Room</th>\n",
       "      <th>WC</th>\n",
       "      <th>Price</th>\n",
       "    </tr>\n",
       "  </thead>\n",
       "  <tbody>\n",
       "    <tr>\n",
       "      <th>0</th>\n",
       "      <td>Gò Vấp, Hồ Chí Minh</td>\n",
       "      <td>56 m²</td>\n",
       "      <td>23.93 tr/m²</td>\n",
       "      <td>2.0</td>\n",
       "      <td>3.0</td>\n",
       "      <td>1.34 tỷ</td>\n",
       "    </tr>\n",
       "    <tr>\n",
       "      <th>1</th>\n",
       "      <td>Quận 5, Hồ Chí Minh</td>\n",
       "      <td>36 m²</td>\n",
       "      <td>244.44 tr/m²</td>\n",
       "      <td>NaN</td>\n",
       "      <td>NaN</td>\n",
       "      <td>8.8 tỷ</td>\n",
       "    </tr>\n",
       "    <tr>\n",
       "      <th>2</th>\n",
       "      <td>Bình Thạnh, Hồ Chí Minh</td>\n",
       "      <td>55 m²</td>\n",
       "      <td>26.36 tr/m²</td>\n",
       "      <td>3.0</td>\n",
       "      <td>3.0</td>\n",
       "      <td>1.45 tỷ</td>\n",
       "    </tr>\n",
       "    <tr>\n",
       "      <th>3</th>\n",
       "      <td>Quận 2, Hồ Chí Minh</td>\n",
       "      <td>62.5 m²</td>\n",
       "      <td>25.76 tr/m²</td>\n",
       "      <td>3.0</td>\n",
       "      <td>3.0</td>\n",
       "      <td>1.61 tỷ</td>\n",
       "    </tr>\n",
       "    <tr>\n",
       "      <th>4</th>\n",
       "      <td>Bình Tân, Hồ Chí Minh</td>\n",
       "      <td>64 m²</td>\n",
       "      <td>93.75 tr/m²</td>\n",
       "      <td>NaN</td>\n",
       "      <td>NaN</td>\n",
       "      <td>6 tỷ</td>\n",
       "    </tr>\n",
       "  </tbody>\n",
       "</table>\n",
       "</div>"
      ],
      "text/plain": [
       "                   Address     Area  Price per m2  Room   WC    Price\n",
       "0      Gò Vấp, Hồ Chí Minh    56 m²   23.93 tr/m²   2.0  3.0  1.34 tỷ\n",
       "1      Quận 5, Hồ Chí Minh    36 m²  244.44 tr/m²   NaN  NaN   8.8 tỷ\n",
       "2  Bình Thạnh, Hồ Chí Minh    55 m²   26.36 tr/m²   3.0  3.0  1.45 tỷ\n",
       "3      Quận 2, Hồ Chí Minh  62.5 m²   25.76 tr/m²   3.0  3.0  1.61 tỷ\n",
       "4    Bình Tân, Hồ Chí Minh    64 m²   93.75 tr/m²   NaN  NaN     6 tỷ"
      ]
     },
     "execution_count": 7,
     "metadata": {},
     "output_type": "execute_result"
    }
   ],
   "source": [
    "df=df.drop(columns=['Unnamed: 0'])\n",
    "\n",
    "df.head()"
   ]
  },
  {
   "cell_type": "code",
   "execution_count": 8,
   "metadata": {},
   "outputs": [
    {
     "data": {
      "text/plain": [
       "Index(['Address', 'Area', 'Price per m2', 'Room', 'WC', 'Price'], dtype='object')"
      ]
     },
     "execution_count": 8,
     "metadata": {},
     "output_type": "execute_result"
    }
   ],
   "source": [
    "df.columns"
   ]
  },
  {
   "cell_type": "code",
   "execution_count": 9,
   "metadata": {},
   "outputs": [
    {
     "data": {
      "text/plain": [
       "Address           0\n",
       "Area              0\n",
       "Price per m2    148\n",
       "Room            397\n",
       "WC              546\n",
       "Price             0\n",
       "dtype: int64"
      ]
     },
     "execution_count": 9,
     "metadata": {},
     "output_type": "execute_result"
    }
   ],
   "source": [
    "#kiểm tra số lượng NULL\n",
    "df.isnull().sum()"
   ]
  },
  {
   "cell_type": "code",
   "execution_count": 10,
   "metadata": {},
   "outputs": [
    {
     "data": {
      "text/plain": [
       "Giá thỏa thuận    148\n",
       "4.5 tỷ             34\n",
       "8.5 tỷ             33\n",
       "3.5 tỷ             33\n",
       "6.5 tỷ             32\n",
       "                 ... \n",
       "1.15 tỷ             1\n",
       "980 triệu           1\n",
       "26 tỷ               1\n",
       "12.3 tỷ             1\n",
       "1.34 tỷ             1\n",
       "Name: Price, Length: 429, dtype: int64"
      ]
     },
     "execution_count": 10,
     "metadata": {},
     "output_type": "execute_result"
    }
   ],
   "source": [
    "# đếm các giá trị trong cột Price\n",
    "df['Price'].value_counts()"
   ]
  },
  {
   "cell_type": "code",
   "execution_count": 11,
   "metadata": {},
   "outputs": [
    {
     "data": {
      "text/plain": [
       "1852"
      ]
     },
     "execution_count": 11,
     "metadata": {},
     "output_type": "execute_result"
    }
   ],
   "source": [
    "# xóa column Price per m2, vì cloumn này\n",
    "# là của column Price / column Area\n",
    "df1 = df[['Address','Area','Room','WC','Price']]\n",
    "# xóa các row có price là giá thoat thuận\n",
    "df1 = df1[df1.Price != 'Giá thỏa thuận']\n",
    "len(df1)"
   ]
  },
  {
   "cell_type": "code",
   "execution_count": 12,
   "metadata": {},
   "outputs": [
    {
     "data": {
      "text/html": [
       "<div>\n",
       "<style scoped>\n",
       "    .dataframe tbody tr th:only-of-type {\n",
       "        vertical-align: middle;\n",
       "    }\n",
       "\n",
       "    .dataframe tbody tr th {\n",
       "        vertical-align: top;\n",
       "    }\n",
       "\n",
       "    .dataframe thead th {\n",
       "        text-align: right;\n",
       "    }\n",
       "</style>\n",
       "<table border=\"1\" class=\"dataframe\">\n",
       "  <thead>\n",
       "    <tr style=\"text-align: right;\">\n",
       "      <th></th>\n",
       "      <th>Address</th>\n",
       "      <th>Area</th>\n",
       "      <th>Room</th>\n",
       "      <th>WC</th>\n",
       "      <th>Price</th>\n",
       "    </tr>\n",
       "  </thead>\n",
       "  <tbody>\n",
       "    <tr>\n",
       "      <th>0</th>\n",
       "      <td>Gò Vấp, Hồ Chí Minh</td>\n",
       "      <td>56 m²</td>\n",
       "      <td>2.0</td>\n",
       "      <td>3.0</td>\n",
       "      <td>1.34 tỷ</td>\n",
       "    </tr>\n",
       "    <tr>\n",
       "      <th>1</th>\n",
       "      <td>Quận 5, Hồ Chí Minh</td>\n",
       "      <td>36 m²</td>\n",
       "      <td>NaN</td>\n",
       "      <td>NaN</td>\n",
       "      <td>8.8 tỷ</td>\n",
       "    </tr>\n",
       "    <tr>\n",
       "      <th>2</th>\n",
       "      <td>Bình Thạnh, Hồ Chí Minh</td>\n",
       "      <td>55 m²</td>\n",
       "      <td>3.0</td>\n",
       "      <td>3.0</td>\n",
       "      <td>1.45 tỷ</td>\n",
       "    </tr>\n",
       "    <tr>\n",
       "      <th>3</th>\n",
       "      <td>Quận 2, Hồ Chí Minh</td>\n",
       "      <td>62.5 m²</td>\n",
       "      <td>3.0</td>\n",
       "      <td>3.0</td>\n",
       "      <td>1.61 tỷ</td>\n",
       "    </tr>\n",
       "    <tr>\n",
       "      <th>4</th>\n",
       "      <td>Bình Tân, Hồ Chí Minh</td>\n",
       "      <td>64 m²</td>\n",
       "      <td>NaN</td>\n",
       "      <td>NaN</td>\n",
       "      <td>6 tỷ</td>\n",
       "    </tr>\n",
       "  </tbody>\n",
       "</table>\n",
       "</div>"
      ],
      "text/plain": [
       "                   Address     Area  Room   WC    Price\n",
       "0      Gò Vấp, Hồ Chí Minh    56 m²   2.0  3.0  1.34 tỷ\n",
       "1      Quận 5, Hồ Chí Minh    36 m²   NaN  NaN   8.8 tỷ\n",
       "2  Bình Thạnh, Hồ Chí Minh    55 m²   3.0  3.0  1.45 tỷ\n",
       "3      Quận 2, Hồ Chí Minh  62.5 m²   3.0  3.0  1.61 tỷ\n",
       "4    Bình Tân, Hồ Chí Minh    64 m²   NaN  NaN     6 tỷ"
      ]
     },
     "execution_count": 12,
     "metadata": {},
     "output_type": "execute_result"
    }
   ],
   "source": [
    "df1.head()"
   ]
  },
  {
   "cell_type": "code",
   "execution_count": 13,
   "metadata": {},
   "outputs": [],
   "source": [
    "# clean data\n",
    "# xóa tên thành phố, chỉ còn tên quận hoặc huyện\n",
    "def remove_detail_address(text):\n",
    "    text = re.sub(\"·\\n\", \"\", text)\n",
    "    text = re.sub(\", Hồ Chí Minh\",\"\", text)\n",
    "    return text\n",
    "\n",
    "# xóa m2 trong diện tích và chuyễn sang kiểu float\n",
    "def remove_m2(text):\n",
    "    text = re.sub(\" m²\", \"\", text)\n",
    "    num = float(text)\n",
    "    return num\n",
    "\n",
    "# chuyển giá về cùng 1 định giá (TỶ)\n",
    "def convert_price(text):\n",
    "    x = re.search(\"tỷ\", text)\n",
    "    if x:\n",
    "        text = re.sub(\" tỷ\",'', text)\n",
    "        num = float(text)\n",
    "        return num\n",
    "    else:\n",
    "        text = re.sub(\" triệu\",\"\",text)\n",
    "        num = float(text)\n",
    "        return num"
   ]
  },
  {
   "cell_type": "code",
   "execution_count": 14,
   "metadata": {},
   "outputs": [
    {
     "data": {
      "text/html": [
       "<div>\n",
       "<style scoped>\n",
       "    .dataframe tbody tr th:only-of-type {\n",
       "        vertical-align: middle;\n",
       "    }\n",
       "\n",
       "    .dataframe tbody tr th {\n",
       "        vertical-align: top;\n",
       "    }\n",
       "\n",
       "    .dataframe thead th {\n",
       "        text-align: right;\n",
       "    }\n",
       "</style>\n",
       "<table border=\"1\" class=\"dataframe\">\n",
       "  <thead>\n",
       "    <tr style=\"text-align: right;\">\n",
       "      <th></th>\n",
       "      <th>Address</th>\n",
       "      <th>Area</th>\n",
       "      <th>Room</th>\n",
       "      <th>WC</th>\n",
       "      <th>Price</th>\n",
       "    </tr>\n",
       "  </thead>\n",
       "  <tbody>\n",
       "    <tr>\n",
       "      <th>0</th>\n",
       "      <td>Gò Vấp</td>\n",
       "      <td>56.0</td>\n",
       "      <td>2.0</td>\n",
       "      <td>3.0</td>\n",
       "      <td>1.34</td>\n",
       "    </tr>\n",
       "    <tr>\n",
       "      <th>1</th>\n",
       "      <td>Quận 5</td>\n",
       "      <td>36.0</td>\n",
       "      <td>NaN</td>\n",
       "      <td>NaN</td>\n",
       "      <td>8.80</td>\n",
       "    </tr>\n",
       "    <tr>\n",
       "      <th>2</th>\n",
       "      <td>Bình Thạnh</td>\n",
       "      <td>55.0</td>\n",
       "      <td>3.0</td>\n",
       "      <td>3.0</td>\n",
       "      <td>1.45</td>\n",
       "    </tr>\n",
       "    <tr>\n",
       "      <th>3</th>\n",
       "      <td>Quận 2</td>\n",
       "      <td>62.5</td>\n",
       "      <td>3.0</td>\n",
       "      <td>3.0</td>\n",
       "      <td>1.61</td>\n",
       "    </tr>\n",
       "    <tr>\n",
       "      <th>4</th>\n",
       "      <td>Bình Tân</td>\n",
       "      <td>64.0</td>\n",
       "      <td>NaN</td>\n",
       "      <td>NaN</td>\n",
       "      <td>6.00</td>\n",
       "    </tr>\n",
       "  </tbody>\n",
       "</table>\n",
       "</div>"
      ],
      "text/plain": [
       "      Address  Area  Room   WC  Price\n",
       "0      Gò Vấp  56.0   2.0  3.0   1.34\n",
       "1      Quận 5  36.0   NaN  NaN   8.80\n",
       "2  Bình Thạnh  55.0   3.0  3.0   1.45\n",
       "3      Quận 2  62.5   3.0  3.0   1.61\n",
       "4    Bình Tân  64.0   NaN  NaN   6.00"
      ]
     },
     "execution_count": 14,
     "metadata": {},
     "output_type": "execute_result"
    }
   ],
   "source": [
    "df1['Address'] = df1['Address'].apply(remove_detail_address)\n",
    "df1['Area']=df1['Area'].apply(remove_m2)\n",
    "df1['Price']=df1['Price'].apply(convert_price)\n",
    "df1.head()"
   ]
  },
  {
   "cell_type": "code",
   "execution_count": 15,
   "metadata": {},
   "outputs": [
    {
     "data": {
      "text/plain": [
       "<Axes: ylabel='Frequency'>"
      ]
     },
     "execution_count": 15,
     "metadata": {},
     "output_type": "execute_result"
    },
    {
     "data": {
      "image/png": "[encoded data removed]",
      "text/plain": [
       "<Figure size 640x480 with 1 Axes>"
      ]
     },
     "metadata": {},
     "output_type": "display_data"
    }
   ],
   "source": [
    "df1['Room'].plot(kind=\"hist\")"
   ]
  },
  {
   "cell_type": "code",
   "execution_count": 16,
   "metadata": {},
   "outputs": [
    {
     "data": {
      "text/plain": [
       "<Axes: ylabel='Frequency'>"
      ]
     },
     "execution_count": 16,
     "metadata": {},
     "output_type": "execute_result"
    },
    {
     "data": {
      "image/png": "[encoded data removed]",
      "text/plain": [
       "<Figure size 640x480 with 1 Axes>"
      ]
     },
     "metadata": {},
     "output_type": "display_data"
    }
   ],
   "source": [
    "df1['WC'].plot(kind=\"hist\")"
   ]
  },
  {
   "cell_type": "code",
   "execution_count": 26,
   "metadata": {},
   "outputs": [
    {
     "name": "stdout",
     "output_type": "stream",
     "text": [
      "Trung bình của cột Room:  4.131209503239741\n",
      "Trung vị của cột Room:  4.0\n",
      "Max of Room column:  42.0\n",
      "Min of Room column:  1.0\n"
     ]
    }
   ],
   "source": [
    "print('Trung bình của cột Room: ',df1['Room'].mean())\n",
    "print('Trung vị của cột Room: ',df1['Room'].median())\n",
    "max_room = df1['Room'].max()\n",
    "print('Max of Room column: ',max_room)\n",
    "min_room = df1['Room'].min()\n",
    "print('Min of Room column: ',min_room)"
   ]
  },
  {
   "cell_type": "code",
   "execution_count": 28,
   "metadata": {},
   "outputs": [
    {
     "name": "stdout",
     "output_type": "stream",
     "text": [
      "Trung bình của cột WC:  3.7942764578833694\n",
      "Trung vị của cột WC:  3.0\n",
      "Max of Room column:  42.0\n",
      "Min of Room column:  1.0\n"
     ]
    }
   ],
   "source": [
    "print('Trung bình của cột WC: ',df1['WC'].mean())\n",
    "print('Trung vị của cột WC: ',df1['WC'].median())\n",
    "max_wc = df1['WC'].max()\n",
    "print('Max of WC column: ',max_wc)\n",
    "min_wc = df1['WC'].min()\n",
    "print('Min of WC column: ',min_wc)"
   ]
  },
  {
   "cell_type": "code",
   "execution_count": 19,
   "metadata": {},
   "outputs": [
    {
     "data": {
      "text/html": [
       "<div>\n",
       "<style scoped>\n",
       "    .dataframe tbody tr th:only-of-type {\n",
       "        vertical-align: middle;\n",
       "    }\n",
       "\n",
       "    .dataframe tbody tr th {\n",
       "        vertical-align: top;\n",
       "    }\n",
       "\n",
       "    .dataframe thead th {\n",
       "        text-align: right;\n",
       "    }\n",
       "</style>\n",
       "<table border=\"1\" class=\"dataframe\">\n",
       "  <thead>\n",
       "    <tr style=\"text-align: right;\">\n",
       "      <th></th>\n",
       "      <th>Address</th>\n",
       "      <th>Area</th>\n",
       "      <th>Room</th>\n",
       "      <th>WC</th>\n",
       "      <th>Price</th>\n",
       "    </tr>\n",
       "  </thead>\n",
       "  <tbody>\n",
       "    <tr>\n",
       "      <th>0</th>\n",
       "      <td>Gò Vấp</td>\n",
       "      <td>56.0</td>\n",
       "      <td>2.0</td>\n",
       "      <td>3.0</td>\n",
       "      <td>1.34</td>\n",
       "    </tr>\n",
       "    <tr>\n",
       "      <th>1</th>\n",
       "      <td>Quận 5</td>\n",
       "      <td>36.0</td>\n",
       "      <td>4.0</td>\n",
       "      <td>3.0</td>\n",
       "      <td>8.80</td>\n",
       "    </tr>\n",
       "    <tr>\n",
       "      <th>2</th>\n",
       "      <td>Bình Thạnh</td>\n",
       "      <td>55.0</td>\n",
       "      <td>3.0</td>\n",
       "      <td>3.0</td>\n",
       "      <td>1.45</td>\n",
       "    </tr>\n",
       "    <tr>\n",
       "      <th>3</th>\n",
       "      <td>Quận 2</td>\n",
       "      <td>62.5</td>\n",
       "      <td>3.0</td>\n",
       "      <td>3.0</td>\n",
       "      <td>1.61</td>\n",
       "    </tr>\n",
       "    <tr>\n",
       "      <th>4</th>\n",
       "      <td>Bình Tân</td>\n",
       "      <td>64.0</td>\n",
       "      <td>4.0</td>\n",
       "      <td>3.0</td>\n",
       "      <td>6.00</td>\n",
       "    </tr>\n",
       "  </tbody>\n",
       "</table>\n",
       "</div>"
      ],
      "text/plain": [
       "      Address  Area  Room   WC  Price\n",
       "0      Gò Vấp  56.0   2.0  3.0   1.34\n",
       "1      Quận 5  36.0   4.0  3.0   8.80\n",
       "2  Bình Thạnh  55.0   3.0  3.0   1.45\n",
       "3      Quận 2  62.5   3.0  3.0   1.61\n",
       "4    Bình Tân  64.0   4.0  3.0   6.00"
      ]
     },
     "execution_count": 19,
     "metadata": {},
     "output_type": "execute_result"
    }
   ],
   "source": [
    "# chèn data bị miss bằng median value\n",
    "# sử dụng giá trị median vì giữa 2 giá trị mean và median không chênh lệch nhiều\n",
    "# và feature ROOM và WC là số dương, do đó chọn median là hợp lí\n",
    "df1['Room'].fillna(df1['Room'].median(), inplace = True)\n",
    "df1['WC'].fillna(df1['WC'].median(), inplace = True)\n",
    "df1.head()"
   ]
  },
  {
   "cell_type": "code",
   "execution_count": 20,
   "metadata": {},
   "outputs": [],
   "source": [
    "df1.to_excel('after_preprocessing.xlsx')"
   ]
  },
  {
   "attachments": {},
   "cell_type": "markdown",
   "metadata": {},
   "source": [
    "# Data visualization"
   ]
  },
  {
   "cell_type": "code",
   "execution_count": 21,
   "metadata": {},
   "outputs": [
    {
     "data": {
      "image/png": "[encoded data removed]",
      "text/plain": [
       "<Figure size 1000x1200 with 3 Axes>"
      ]
     },
     "metadata": {},
     "output_type": "display_data"
    }
   ],
   "source": [
    "def scatter(x,fig):\n",
    "    plt.subplot(5,2,fig)\n",
    "    plt.scatter(df1[x],df1['Price'])\n",
    "    plt.title(x+' vs Price')\n",
    "    plt.ylabel('Price')\n",
    "    plt.xlabel(x)\n",
    "\n",
    "\n",
    "plt.figure(figsize=(10,12))\n",
    "\n",
    "scatter('Area', 1)\n",
    "scatter('Room', 2)\n",
    "scatter('WC', 3)\n",
    "\n",
    "plt.tight_layout()"
   ]
  },
  {
   "cell_type": "code",
   "execution_count": 22,
   "metadata": {},
   "outputs": [
    {
     "data": {
      "text/plain": [
       "<matplotlib.collections.PathCollection at 0x2122cdca0a0>"
      ]
     },
     "execution_count": 22,
     "metadata": {},
     "output_type": "execute_result"
    },
    {
     "data": {
      "image/png": "[encoded data removed]",
      "text/plain": [
       "<Figure size 2000x600 with 1 Axes>"
      ]
     },
     "metadata": {},
     "output_type": "display_data"
    }
   ],
   "source": [
    "plt.figure(figsize=(20,6))\n",
    "plt.title(\"Bieu do phan tan Scatter Plot\")\n",
    "plt.xlabel(\"Dien tich\")\n",
    "plt.ylabel(\"Gia\")\n",
    "plt.scatter(df1['Address'], df1['Price'])"
   ]
  }
 ],
 "metadata": {
  "kernelspec": {
   "display_name": "Python 3",
   "language": "python",
   "name": "python3"
  },
  "language_info": {
   "codemirror_mode": {
    "name": "ipython",
    "version": 3
   },
   "file_extension": ".py",
   "mimetype": "text/x-python",
   "name": "python",
   "nbconvert_exporter": "python",
   "pygments_lexer": "ipython3",
   "version": "3.9.0"
  },
  "orig_nbformat": 4
 },
 "nbformat": 4,
 "nbformat_minor": 2
}
