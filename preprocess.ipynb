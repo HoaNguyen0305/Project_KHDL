{
 "cells": [
  {
   "cell_type": "code",
   "execution_count": 29,
   "metadata": {},
   "outputs": [],
   "source": [
    "import pandas as pd\n",
    "import numpy as np\n",
    "import re\n",
    "import matplotlib.pyplot as plt"
   ]
  },
  {
   "cell_type": "code",
   "execution_count": 30,
   "metadata": {},
   "outputs": [
    {
     "data": {
      "text/html": [
       "<div>\n",
       "<style scoped>\n",
       "    .dataframe tbody tr th:only-of-type {\n",
       "        vertical-align: middle;\n",
       "    }\n",
       "\n",
       "    .dataframe tbody tr th {\n",
       "        vertical-align: top;\n",
       "    }\n",
       "\n",
       "    .dataframe thead th {\n",
       "        text-align: right;\n",
       "    }\n",
       "</style>\n",
       "<table border=\"1\" class=\"dataframe\">\n",
       "  <thead>\n",
       "    <tr style=\"text-align: right;\">\n",
       "      <th></th>\n",
       "      <th>Unnamed: 0</th>\n",
       "      <th>Address</th>\n",
       "      <th>Area</th>\n",
       "      <th>Price per m2</th>\n",
       "      <th>Room</th>\n",
       "      <th>WC</th>\n",
       "      <th>Price</th>\n",
       "    </tr>\n",
       "  </thead>\n",
       "  <tbody>\n",
       "    <tr>\n",
       "      <th>0</th>\n",
       "      <td>0</td>\n",
       "      <td>·\\nQuận 9, Hồ Chí Minh</td>\n",
       "      <td>120 m²</td>\n",
       "      <td>91.67 tr/m²</td>\n",
       "      <td>6.0</td>\n",
       "      <td>6.0</td>\n",
       "      <td>11 tỷ</td>\n",
       "    </tr>\n",
       "    <tr>\n",
       "      <th>1</th>\n",
       "      <td>1</td>\n",
       "      <td>·\\nTân Bình, Hồ Chí Minh</td>\n",
       "      <td>34.5 m²</td>\n",
       "      <td>162.32 tr/m²</td>\n",
       "      <td>3.0</td>\n",
       "      <td>2.0</td>\n",
       "      <td>5.6 tỷ</td>\n",
       "    </tr>\n",
       "    <tr>\n",
       "      <th>2</th>\n",
       "      <td>2</td>\n",
       "      <td>·\\nHóc Môn, Hồ Chí Minh</td>\n",
       "      <td>156 m²</td>\n",
       "      <td>16.67 tr/m²</td>\n",
       "      <td>4.0</td>\n",
       "      <td>4.0</td>\n",
       "      <td>2.6 tỷ</td>\n",
       "    </tr>\n",
       "    <tr>\n",
       "      <th>3</th>\n",
       "      <td>3</td>\n",
       "      <td>·\\nHóc Môn, Hồ Chí Minh</td>\n",
       "      <td>130 m²</td>\n",
       "      <td>21.54 tr/m²</td>\n",
       "      <td>3.0</td>\n",
       "      <td>3.0</td>\n",
       "      <td>2.8 tỷ</td>\n",
       "    </tr>\n",
       "    <tr>\n",
       "      <th>4</th>\n",
       "      <td>4</td>\n",
       "      <td>·\\nBình Tân, Hồ Chí Minh</td>\n",
       "      <td>87 m²</td>\n",
       "      <td>91.95 tr/m²</td>\n",
       "      <td>NaN</td>\n",
       "      <td>NaN</td>\n",
       "      <td>8 tỷ</td>\n",
       "    </tr>\n",
       "  </tbody>\n",
       "</table>\n",
       "</div>"
      ],
      "text/plain": [
       "   Unnamed: 0                   Address     Area  Price per m2  Room   WC  \\\n",
       "0           0    ·\\nQuận 9, Hồ Chí Minh   120 m²   91.67 tr/m²   6.0  6.0   \n",
       "1           1  ·\\nTân Bình, Hồ Chí Minh  34.5 m²  162.32 tr/m²   3.0  2.0   \n",
       "2           2   ·\\nHóc Môn, Hồ Chí Minh   156 m²   16.67 tr/m²   4.0  4.0   \n",
       "3           3   ·\\nHóc Môn, Hồ Chí Minh   130 m²   21.54 tr/m²   3.0  3.0   \n",
       "4           4  ·\\nBình Tân, Hồ Chí Minh    87 m²   91.95 tr/m²   NaN  NaN   \n",
       "\n",
       "    Price  \n",
       "0   11 tỷ  \n",
       "1  5.6 tỷ  \n",
       "2  2.6 tỷ  \n",
       "3  2.8 tỷ  \n",
       "4    8 tỷ  "
      ]
     },
     "execution_count": 30,
     "metadata": {},
     "output_type": "execute_result"
    }
   ],
   "source": [
    "df = pd.read_excel('data_1_to_50.xlsx')\n",
    "df.head()"
   ]
  },
  {
   "cell_type": "code",
   "execution_count": 31,
   "metadata": {},
   "outputs": [
    {
     "data": {
      "text/plain": [
       "1000"
      ]
     },
     "execution_count": 31,
     "metadata": {},
     "output_type": "execute_result"
    }
   ],
   "source": [
    "len(df)"
   ]
  },
  {
   "cell_type": "code",
   "execution_count": 32,
   "metadata": {},
   "outputs": [
    {
     "data": {
      "text/plain": [
       "Unnamed: 0        0\n",
       "Address           0\n",
       "Area              0\n",
       "Price per m2     60\n",
       "Room            172\n",
       "WC              244\n",
       "Price             0\n",
       "dtype: int64"
      ]
     },
     "execution_count": 32,
     "metadata": {},
     "output_type": "execute_result"
    }
   ],
   "source": [
    "#kiểm tra số lượng NULL\n",
    "df.isnull().sum()"
   ]
  },
  {
   "cell_type": "code",
   "execution_count": 33,
   "metadata": {},
   "outputs": [
    {
     "data": {
      "text/plain": [
       "Giá thỏa thuận    60\n",
       "4.5 tỷ            16\n",
       "3.5 tỷ            16\n",
       "7.5 tỷ            15\n",
       "8.5 tỷ            15\n",
       "                  ..\n",
       "16.29 tỷ           1\n",
       "2.38 tỷ            1\n",
       "39.5 tỷ            1\n",
       "15.49 tỷ           1\n",
       "780 triệu          1\n",
       "Name: Price, Length: 293, dtype: int64"
      ]
     },
     "execution_count": 33,
     "metadata": {},
     "output_type": "execute_result"
    }
   ],
   "source": [
    "# đếm các giá trị trong cột Price\n",
    "df['Price'].value_counts()"
   ]
  },
  {
   "cell_type": "code",
   "execution_count": 34,
   "metadata": {},
   "outputs": [
    {
     "data": {
      "text/plain": [
       "940"
      ]
     },
     "execution_count": 34,
     "metadata": {},
     "output_type": "execute_result"
    }
   ],
   "source": [
    "# xóa column Price per m2, vì cloumn này\n",
    "# là của column Price / column Area\n",
    "df1 = df[['Address','Area','Room','WC','Price']]\n",
    "# xóa các row có price là giá thoat thuận\n",
    "df1 = df1[df1.Price != 'Giá thỏa thuận']\n",
    "len(df1)\n"
   ]
  },
  {
   "cell_type": "code",
   "execution_count": 35,
   "metadata": {},
   "outputs": [
    {
     "data": {
      "text/html": [
       "<div>\n",
       "<style scoped>\n",
       "    .dataframe tbody tr th:only-of-type {\n",
       "        vertical-align: middle;\n",
       "    }\n",
       "\n",
       "    .dataframe tbody tr th {\n",
       "        vertical-align: top;\n",
       "    }\n",
       "\n",
       "    .dataframe thead th {\n",
       "        text-align: right;\n",
       "    }\n",
       "</style>\n",
       "<table border=\"1\" class=\"dataframe\">\n",
       "  <thead>\n",
       "    <tr style=\"text-align: right;\">\n",
       "      <th></th>\n",
       "      <th>Address</th>\n",
       "      <th>Area</th>\n",
       "      <th>Room</th>\n",
       "      <th>WC</th>\n",
       "      <th>Price</th>\n",
       "    </tr>\n",
       "  </thead>\n",
       "  <tbody>\n",
       "    <tr>\n",
       "      <th>0</th>\n",
       "      <td>·\\nQuận 9, Hồ Chí Minh</td>\n",
       "      <td>120 m²</td>\n",
       "      <td>6.0</td>\n",
       "      <td>6.0</td>\n",
       "      <td>11 tỷ</td>\n",
       "    </tr>\n",
       "    <tr>\n",
       "      <th>1</th>\n",
       "      <td>·\\nTân Bình, Hồ Chí Minh</td>\n",
       "      <td>34.5 m²</td>\n",
       "      <td>3.0</td>\n",
       "      <td>2.0</td>\n",
       "      <td>5.6 tỷ</td>\n",
       "    </tr>\n",
       "    <tr>\n",
       "      <th>2</th>\n",
       "      <td>·\\nHóc Môn, Hồ Chí Minh</td>\n",
       "      <td>156 m²</td>\n",
       "      <td>4.0</td>\n",
       "      <td>4.0</td>\n",
       "      <td>2.6 tỷ</td>\n",
       "    </tr>\n",
       "    <tr>\n",
       "      <th>3</th>\n",
       "      <td>·\\nHóc Môn, Hồ Chí Minh</td>\n",
       "      <td>130 m²</td>\n",
       "      <td>3.0</td>\n",
       "      <td>3.0</td>\n",
       "      <td>2.8 tỷ</td>\n",
       "    </tr>\n",
       "    <tr>\n",
       "      <th>4</th>\n",
       "      <td>·\\nBình Tân, Hồ Chí Minh</td>\n",
       "      <td>87 m²</td>\n",
       "      <td>NaN</td>\n",
       "      <td>NaN</td>\n",
       "      <td>8 tỷ</td>\n",
       "    </tr>\n",
       "  </tbody>\n",
       "</table>\n",
       "</div>"
      ],
      "text/plain": [
       "                    Address     Area  Room   WC   Price\n",
       "0    ·\\nQuận 9, Hồ Chí Minh   120 m²   6.0  6.0   11 tỷ\n",
       "1  ·\\nTân Bình, Hồ Chí Minh  34.5 m²   3.0  2.0  5.6 tỷ\n",
       "2   ·\\nHóc Môn, Hồ Chí Minh   156 m²   4.0  4.0  2.6 tỷ\n",
       "3   ·\\nHóc Môn, Hồ Chí Minh   130 m²   3.0  3.0  2.8 tỷ\n",
       "4  ·\\nBình Tân, Hồ Chí Minh    87 m²   NaN  NaN    8 tỷ"
      ]
     },
     "execution_count": 35,
     "metadata": {},
     "output_type": "execute_result"
    }
   ],
   "source": [
    "df1.head()"
   ]
  },
  {
   "cell_type": "code",
   "execution_count": 36,
   "metadata": {},
   "outputs": [],
   "source": [
    "# clean data\n",
    "# xóa tên thành phố, chỉ còn tên quận hoặc huyện\n",
    "def remove_detail_address(text):\n",
    "    text = re.sub(\"·\\n\", \"\", text)\n",
    "    text = re.sub(\", Hồ Chí Minh\",\"\", text)\n",
    "    return text\n",
    "\n",
    "# xóa m2 trong diện tích và chuyễn sang kiểu float\n",
    "def remove_m2(text):\n",
    "    text = re.sub(\" m²\", \"\", text)\n",
    "    num = float(text)\n",
    "    return num\n",
    "\n",
    "# chuyển giá về cùng 1 định giá (TỶ)\n",
    "def convert_price(text):\n",
    "    x = re.search(\"tỷ\", text)\n",
    "    if x:\n",
    "        text = re.sub(\" tỷ\",'', text)\n",
    "        num = float(text)\n",
    "        return num\n",
    "    else:\n",
    "        text = re.sub(\" triệu\",\"\",text)\n",
    "        num = float(text)\n",
    "        return num"
   ]
  },
  {
   "cell_type": "code",
   "execution_count": 37,
   "metadata": {},
   "outputs": [
    {
     "data": {
      "text/html": [
       "<div>\n",
       "<style scoped>\n",
       "    .dataframe tbody tr th:only-of-type {\n",
       "        vertical-align: middle;\n",
       "    }\n",
       "\n",
       "    .dataframe tbody tr th {\n",
       "        vertical-align: top;\n",
       "    }\n",
       "\n",
       "    .dataframe thead th {\n",
       "        text-align: right;\n",
       "    }\n",
       "</style>\n",
       "<table border=\"1\" class=\"dataframe\">\n",
       "  <thead>\n",
       "    <tr style=\"text-align: right;\">\n",
       "      <th></th>\n",
       "      <th>Address</th>\n",
       "      <th>Area</th>\n",
       "      <th>Room</th>\n",
       "      <th>WC</th>\n",
       "      <th>Price</th>\n",
       "    </tr>\n",
       "  </thead>\n",
       "  <tbody>\n",
       "    <tr>\n",
       "      <th>0</th>\n",
       "      <td>Quận 9</td>\n",
       "      <td>120.0</td>\n",
       "      <td>6.0</td>\n",
       "      <td>6.0</td>\n",
       "      <td>11.0</td>\n",
       "    </tr>\n",
       "    <tr>\n",
       "      <th>1</th>\n",
       "      <td>Tân Bình</td>\n",
       "      <td>34.5</td>\n",
       "      <td>3.0</td>\n",
       "      <td>2.0</td>\n",
       "      <td>5.6</td>\n",
       "    </tr>\n",
       "    <tr>\n",
       "      <th>2</th>\n",
       "      <td>Hóc Môn</td>\n",
       "      <td>156.0</td>\n",
       "      <td>4.0</td>\n",
       "      <td>4.0</td>\n",
       "      <td>2.6</td>\n",
       "    </tr>\n",
       "    <tr>\n",
       "      <th>3</th>\n",
       "      <td>Hóc Môn</td>\n",
       "      <td>130.0</td>\n",
       "      <td>3.0</td>\n",
       "      <td>3.0</td>\n",
       "      <td>2.8</td>\n",
       "    </tr>\n",
       "    <tr>\n",
       "      <th>4</th>\n",
       "      <td>Bình Tân</td>\n",
       "      <td>87.0</td>\n",
       "      <td>NaN</td>\n",
       "      <td>NaN</td>\n",
       "      <td>8.0</td>\n",
       "    </tr>\n",
       "  </tbody>\n",
       "</table>\n",
       "</div>"
      ],
      "text/plain": [
       "    Address   Area  Room   WC  Price\n",
       "0    Quận 9  120.0   6.0  6.0   11.0\n",
       "1  Tân Bình   34.5   3.0  2.0    5.6\n",
       "2   Hóc Môn  156.0   4.0  4.0    2.6\n",
       "3   Hóc Môn  130.0   3.0  3.0    2.8\n",
       "4  Bình Tân   87.0   NaN  NaN    8.0"
      ]
     },
     "execution_count": 37,
     "metadata": {},
     "output_type": "execute_result"
    }
   ],
   "source": [
    "df1['Address'] = df1['Address'].apply(remove_detail_address)\n",
    "df1['Area']=df1['Area'].apply(remove_m2)\n",
    "df1['Price']=df1['Price'].apply(convert_price)\n",
    "df1.head()"
   ]
  },
  {
   "cell_type": "code",
   "execution_count": 38,
   "metadata": {},
   "outputs": [
    {
     "data": {
      "text/plain": [
       "<Axes: ylabel='Frequency'>"
      ]
     },
     "execution_count": 38,
     "metadata": {},
     "output_type": "execute_result"
    },
    {
     "data": {
      "image/png": "[encoded data removed]",
      "text/plain": [
       "<Figure size 640x480 with 1 Axes>"
      ]
     },
     "metadata": {},
     "output_type": "display_data"
    }
   ],
   "source": [
    "df1['Room'].plot(kind=\"hist\")"
   ]
  },
  {
   "cell_type": "code",
   "execution_count": 39,
   "metadata": {},
   "outputs": [
    {
     "data": {
      "text/plain": [
       "<Axes: ylabel='Frequency'>"
      ]
     },
     "execution_count": 39,
     "metadata": {},
     "output_type": "execute_result"
    },
    {
     "data": {
      "image/png": "[encoded data removed]",
      "text/plain": [
       "<Figure size 640x480 with 1 Axes>"
      ]
     },
     "metadata": {},
     "output_type": "display_data"
    }
   ],
   "source": [
    "df1['WC'].plot(kind=\"hist\")"
   ]
  },
  {
   "cell_type": "code",
   "execution_count": 40,
   "metadata": {},
   "outputs": [
    {
     "name": "stdout",
     "output_type": "stream",
     "text": [
      "4.1461538461538465\n",
      "4.0\n"
     ]
    }
   ],
   "source": [
    "print(df1['Room'].mean())\n",
    "print(df1['Room'].median())"
   ]
  },
  {
   "cell_type": "code",
   "execution_count": 41,
   "metadata": {},
   "outputs": [
    {
     "name": "stdout",
     "output_type": "stream",
     "text": [
      "4.085314685314685\n",
      "4.0\n"
     ]
    }
   ],
   "source": [
    "print(df1['WC'].mean())\n",
    "print(df1['WC'].median())"
   ]
  },
  {
   "cell_type": "code",
   "execution_count": 42,
   "metadata": {},
   "outputs": [
    {
     "data": {
      "text/html": [
       "<div>\n",
       "<style scoped>\n",
       "    .dataframe tbody tr th:only-of-type {\n",
       "        vertical-align: middle;\n",
       "    }\n",
       "\n",
       "    .dataframe tbody tr th {\n",
       "        vertical-align: top;\n",
       "    }\n",
       "\n",
       "    .dataframe thead th {\n",
       "        text-align: right;\n",
       "    }\n",
       "</style>\n",
       "<table border=\"1\" class=\"dataframe\">\n",
       "  <thead>\n",
       "    <tr style=\"text-align: right;\">\n",
       "      <th></th>\n",
       "      <th>Address</th>\n",
       "      <th>Area</th>\n",
       "      <th>Room</th>\n",
       "      <th>WC</th>\n",
       "      <th>Price</th>\n",
       "    </tr>\n",
       "  </thead>\n",
       "  <tbody>\n",
       "    <tr>\n",
       "      <th>0</th>\n",
       "      <td>Quận 9</td>\n",
       "      <td>120.0</td>\n",
       "      <td>6.0</td>\n",
       "      <td>6.0</td>\n",
       "      <td>11.0</td>\n",
       "    </tr>\n",
       "    <tr>\n",
       "      <th>1</th>\n",
       "      <td>Tân Bình</td>\n",
       "      <td>34.5</td>\n",
       "      <td>3.0</td>\n",
       "      <td>2.0</td>\n",
       "      <td>5.6</td>\n",
       "    </tr>\n",
       "    <tr>\n",
       "      <th>2</th>\n",
       "      <td>Hóc Môn</td>\n",
       "      <td>156.0</td>\n",
       "      <td>4.0</td>\n",
       "      <td>4.0</td>\n",
       "      <td>2.6</td>\n",
       "    </tr>\n",
       "    <tr>\n",
       "      <th>3</th>\n",
       "      <td>Hóc Môn</td>\n",
       "      <td>130.0</td>\n",
       "      <td>3.0</td>\n",
       "      <td>3.0</td>\n",
       "      <td>2.8</td>\n",
       "    </tr>\n",
       "    <tr>\n",
       "      <th>4</th>\n",
       "      <td>Bình Tân</td>\n",
       "      <td>87.0</td>\n",
       "      <td>4.0</td>\n",
       "      <td>4.0</td>\n",
       "      <td>8.0</td>\n",
       "    </tr>\n",
       "  </tbody>\n",
       "</table>\n",
       "</div>"
      ],
      "text/plain": [
       "    Address   Area  Room   WC  Price\n",
       "0    Quận 9  120.0   6.0  6.0   11.0\n",
       "1  Tân Bình   34.5   3.0  2.0    5.6\n",
       "2   Hóc Môn  156.0   4.0  4.0    2.6\n",
       "3   Hóc Môn  130.0   3.0  3.0    2.8\n",
       "4  Bình Tân   87.0   4.0  4.0    8.0"
      ]
     },
     "execution_count": 42,
     "metadata": {},
     "output_type": "execute_result"
    }
   ],
   "source": [
    "# chèn data bị miss bằng median value\n",
    "# sử dụng giá trị median vì giữa 2 giá trị mean và median không chênh lệch nhiều\n",
    "# và feature ROOM và WC là số dương, do đó chọn median là hợp lí\n",
    "df1['Room'].fillna(df1['Room'].median(), inplace = True)\n",
    "df1['WC'].fillna(df1['WC'].median(), inplace = True)\n",
    "df1.head()"
   ]
  },
  {
   "cell_type": "code",
   "execution_count": 43,
   "metadata": {},
   "outputs": [],
   "source": [
    "df1.to_excel('after_preprocessing.xlsx')"
   ]
  }
 ],
 "metadata": {
  "kernelspec": {
   "display_name": "Python 3",
   "language": "python",
   "name": "python3"
  },
  "language_info": {
   "codemirror_mode": {
    "name": "ipython",
    "version": 3
   },
   "file_extension": ".py",
   "mimetype": "text/x-python",
   "name": "python",
   "nbconvert_exporter": "python",
   "pygments_lexer": "ipython3",
   "version": "3.9.0"
  },
  "orig_nbformat": 4
 },
 "nbformat": 4,
 "nbformat_minor": 2
}
